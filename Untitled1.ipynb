{
 "cells": [
  {
   "cell_type": "code",
   "execution_count": 1,
   "id": "d871da67",
   "metadata": {},
   "outputs": [
    {
     "name": "stdout",
     "output_type": "stream",
     "text": [
      "Enter the number of elements in the list: 4\n",
      "Element is: 5\n",
      "Element is: 8\n",
      "Element is: 7\n",
      "Element is: 9\n",
      "list is:  [5, 8, 7, 9]\n",
      "Enter the indexes to be swaped: \n",
      "index1: 0\n",
      "index2: 3\n",
      "List after swapping is:  [9, 8, 7, 5]\n"
     ]
    }
   ],
   "source": [
    "#python programs to swap two elents in a  list\n",
    "a=[]\n",
    "n=int(input(\"Enter the number of elements in the list: \"))\n",
    "for i in range(0,n):\n",
    "    m=int(input(\"Element is: \"))\n",
    "    a.append(m)\n",
    "print(\"list is: \",a)\n",
    "print(\"Enter the indexes to be swaped: \")\n",
    "index1=int(input(\"index1: \"))\n",
    "index2=int(input(\"index2: \"))\n",
    "a[index1],a[index2]=a[index2],a[index1]\n",
    "print(\"List after swapping is: \",a)\n",
    "    \n"
   ]
  },
  {
   "cell_type": "code",
   "execution_count": 4,
   "id": "a7629e90",
   "metadata": {},
   "outputs": [
    {
     "name": "stdout",
     "output_type": "stream",
     "text": [
      "Enter the number: 7\n",
      "The factorial of 7 is 5040\n"
     ]
    }
   ],
   "source": [
    "#python program to find factorial of a number\n",
    "n=int(input(\"Enter the number: \"))\n",
    "fact=1\n",
    "for i in range(1,n+1):\n",
    "    fact=fact*i\n",
    "print(\"The factorial of\",n,\"is\",fact)"
   ]
  },
  {
   "cell_type": "code",
   "execution_count": 6,
   "id": "015f4087",
   "metadata": {},
   "outputs": [
    {
     "name": "stdout",
     "output_type": "stream",
     "text": [
      "Enter a value: 1\n",
      "key exists\n"
     ]
    }
   ],
   "source": [
    "#python program to check if a ke already present in a dictionary\n",
    "dict={1:10,2:20,3:30}\n",
    "key=int(input(\"Enter a value: \"))\n",
    "if key in dict:\n",
    "    print(\"key exists\")\n",
    "else:\n",
    "    print(\"key does not exist\")"
   ]
  },
  {
   "cell_type": "code",
   "execution_count": 9,
   "id": "b2ce1257",
   "metadata": {},
   "outputs": [
    {
     "name": "stdout",
     "output_type": "stream",
     "text": [
      "Enter the number of rows: 8\n",
      "* \n",
      "\n",
      "* * \n",
      "\n",
      "* * * \n",
      "\n",
      "* * * * \n",
      "\n",
      "* * * * * \n",
      "\n",
      "* * * * * * \n",
      "\n",
      "* * * * * * * \n",
      "\n",
      "* * * * * * * * \n",
      "\n"
     ]
    }
   ],
   "source": [
    "#python prgm to print pyramid\n",
    "rows=int(input(\"Enter the number of rows: \"))\n",
    "for i in range(rows):\n",
    "    for j in range(i+1):\n",
    "        print(\"* \",end=\"\")\n",
    "    print(\"\\n\")"
   ]
  },
  {
   "cell_type": "code",
   "execution_count": 19,
   "id": "a66465aa",
   "metadata": {},
   "outputs": [
    {
     "name": "stdout",
     "output_type": "stream",
     "text": [
      "Enter the number of rows 6\n",
      "       * \n",
      "      * * \n",
      "     * * * \n",
      "    * * * * \n",
      "   * * * * * \n",
      "  * * * * * * \n"
     ]
    }
   ],
   "source": [
    "rows=int(input(\"Enter the number of rows \"))\n",
    "for i in range(rows):\n",
    "    for j in range(-rows-1,-i):\n",
    "        print(\" \",end='')\n",
    "    for k in range(i+1):\n",
    "        print(\"* \",end=\"\")\n",
    "    print()"
   ]
  },
  {
   "cell_type": "code",
   "execution_count": null,
   "id": "3d8ad91e",
   "metadata": {},
   "outputs": [],
   "source": []
  },
  {
   "cell_type": "code",
   "execution_count": null,
   "id": "476127da",
   "metadata": {},
   "outputs": [],
   "source": []
  }
 ],
 "metadata": {
  "kernelspec": {
   "display_name": "Python 3",
   "language": "python",
   "name": "python3"
  },
  "language_info": {
   "codemirror_mode": {
    "name": "ipython",
    "version": 3
   },
   "file_extension": ".py",
   "mimetype": "text/x-python",
   "name": "python",
   "nbconvert_exporter": "python",
   "pygments_lexer": "ipython3",
   "version": "3.8.8"
  }
 },
 "nbformat": 4,
 "nbformat_minor": 5
}
